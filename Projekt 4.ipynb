{
 "cells": [
  {
   "cell_type": "markdown",
   "metadata": {},
   "source": [
    "# Praca domowa nr 4\n",
    "\n",
    "Dokument ten przedstawia implementację zapytań SQL z pracy domowej. Rozwiązania opierają się na pakietach numpy oraz pandas. Poprawność każdego z rozwiązań sprawdzam za pomocą funkcji 'equals'. Autor raportu: Piotr Fic"
   ]
  },
  {
   "cell_type": "markdown",
   "metadata": {},
   "source": [
    "## Import pakietów oraz tymczasowa baza danych"
   ]
  },
  {
   "cell_type": "code",
   "execution_count": 1,
   "metadata": {},
   "outputs": [],
   "source": [
    "import pandas as pd\n",
    "import numpy as np\n",
    "\n",
    "#Wczytanie ramek danych\n",
    "posts = pd.read_csv(\"travel/Posts.csv.gz\")\n",
    "users = pd.read_csv(\"travel/Users.csv.gz\")\n",
    "votes = pd.read_csv(\"travel/Votes.csv.gz\")\n",
    "comments = pd.read_csv(\"travel/Comments.csv.gz\")\n",
    "badges = pd.read_csv(\"travel/Badges.csv.gz\")"
   ]
  },
  {
   "cell_type": "code",
   "execution_count": 2,
   "metadata": {},
   "outputs": [],
   "source": [
    "#Tymczasowa baza danych do zapytan SQL\n",
    "import tempfile, sqlite3\n",
    "import os, os.path\n",
    "baza = os.path.join(tempfile.mkdtemp(), \"travel.db\")\n",
    "if os.path.isfile(baza):\n",
    "    os.remove(baza)\n",
    "\n",
    "conn = sqlite3.connect(baza)\n",
    "\n",
    "posts.to_sql(\"Posts\", conn)\n",
    "users.to_sql(\"Users\", conn)\n",
    "votes.to_sql(\"Votes\", conn)\n",
    "comments.to_sql(\"Comments\", conn)\n",
    "badges.to_sql(\"Badges\", conn)"
   ]
  },
  {
   "cell_type": "markdown",
   "metadata": {},
   "source": [
    "# Zapytanie nr 1\n",
    "Schemat działania:\n",
    " - Połączenie użytkowników z ich postami - wybieramy tylko pytania.\n",
    " - Grupujemy dane w zależności od użytkownika za pomocą \"OwnerUserId\"\n",
    " - Szukamy postów - pytań, które otrzymały najwięcej Likes oraz sumujemy \"Likes\" uzyskane we wszystkich pytaniach danego użytkownika \n",
    "\n",
    "Rezultat:\n",
    "Znajdujemy użytkowników, którzy uzyskali w sumie najwięcej \"Likes\", wyświetlamy ich dane wraz z najwyżej ocenionym pytaniem."
   ]
  },
  {
   "cell_type": "code",
   "execution_count": 3,
   "metadata": {},
   "outputs": [],
   "source": [
    "#ZADANIE 1\n",
    "#Zapytanie w SQL\n",
    "sql1 = pd.read_sql_query(\"\"\"\n",
    "SELECT\n",
    "    Users.DisplayName,\n",
    "    Users.Age,\n",
    "    Users.Location,\n",
    "    SUM(Posts.FavoriteCount) AS FavoriteTotal,\n",
    "    Posts.Title AS MostFavoriteQuestion,\n",
    "    MAX(Posts.FavoriteCount) AS MostFavoriteQuestionLikes\n",
    "FROM Posts\n",
    "JOIN Users ON Users.Id=Posts.OwnerUserId\n",
    "WHERE Posts.PostTypeId=1\n",
    "GROUP BY OwnerUserId\n",
    "ORDER BY FavoriteTotal DESC\n",
    "LIMIT 10\"\"\", conn)"
   ]
  },
  {
   "cell_type": "markdown",
   "metadata": {},
   "source": [
    "## Rozwiązanie"
   ]
  },
  {
   "cell_type": "code",
   "execution_count": 4,
   "metadata": {},
   "outputs": [
    {
     "data": {
      "text/plain": [
       "True"
      ]
     },
     "execution_count": 4,
     "metadata": {},
     "output_type": "execute_result"
    }
   ],
   "source": [
    "#Join Users oraz Posts po kolumnach Id == OwnerUserId\n",
    "result = pd.merge(posts, users, left_on='OwnerUserId', right_on='Id')\n",
    "#Wybor gdzie PostTypeId == 1\n",
    "result = result.loc[result.PostTypeId==1]\n",
    "#Wybor potrzebnych kolumn\n",
    "result = result[['DisplayName', 'Age', 'Location', 'FavoriteCount', 'Title', 'OwnerUserId']]\n",
    "#Suma oraz maksimum\n",
    "tmp = result.groupby('OwnerUserId', sort=True).agg({'FavoriteCount': [np.max, np.sum]}).reset_index()\n",
    "#Polaczenie sumy i maksow z ramka\n",
    "tmp.columns = tmp.columns.droplevel()\n",
    "tmp.columns = ['OwnerUserId', 'MostFavoriteQuestionLikes','FavoriteTotal']\n",
    "result = pd.merge(result, tmp, left_on=['OwnerUserId', \"FavoriteCount\"], \n",
    "                  right_on=['OwnerUserId', 'MostFavoriteQuestionLikes'])\n",
    "#Nazwanie kolumn, sortowanie\n",
    "result = result.rename(columns={'Title': 'MostFavoriteQuestion'})\n",
    "result = result.iloc[:, lambda result:[0,1,2,4,6,7]]\n",
    "result.sort_values(by=['FavoriteTotal'], inplace=True, ascending=False)\n",
    "result = result.iloc[:, lambda result:[0,1,2,5,3,4]]\n",
    "result = result.head(10).reset_index(drop=True)\n",
    "\n",
    "#Sprawdzenie poprawnosci\n",
    "result.equals(sql1)"
   ]
  },
  {
   "cell_type": "markdown",
   "metadata": {},
   "source": [
    "# Zapytanie nr 2\n",
    "Schemat działania:\n",
    " - Z odpowiedzi wybieramy ocenione pozytywnie (Score > 0), zliczamy liczbę pozytywnych odpowiedzi dla danego pytania\n",
    " - Łączymy zliczone pozytywne odpowiedzi z pytaniami za pomocą ParentId\n",
    " \n",
    "Rezultat:\n",
    "Znajdujemy pytania o największej liczbie pozytywnie ocenionych odpowiedzi."
   ]
  },
  {
   "cell_type": "code",
   "execution_count": 5,
   "metadata": {},
   "outputs": [],
   "source": [
    "#ZADANIE 2\n",
    "#Zapytanie SQL\n",
    "sql2 = pd.read_sql_query(\"\"\"\n",
    "SELECT\n",
    "    Posts.ID,\n",
    "    Posts.Title,\n",
    "    Posts2.PositiveAnswerCount\n",
    "FROM Posts\n",
    "JOIN (\n",
    "    SELECT\n",
    "        Posts.ParentID,\n",
    "    COUNT(*) AS PositiveAnswerCount\n",
    "    FROM Posts\n",
    "    WHERE Posts.PostTypeID=2 AND Posts.Score>0\n",
    "    GROUP BY Posts.ParentID\n",
    "    ) AS Posts2\n",
    "ON Posts.ID=Posts2.ParentID\n",
    "ORDER BY Posts2.PositiveAnswerCount DESC\n",
    "LIMIT 10\"\"\", conn)"
   ]
  },
  {
   "cell_type": "markdown",
   "metadata": {},
   "source": [
    "## Rozwiązanie"
   ]
  },
  {
   "cell_type": "code",
   "execution_count": 9,
   "metadata": {},
   "outputs": [
    {
     "data": {
      "text/plain": [
       "True"
      ]
     },
     "execution_count": 9,
     "metadata": {},
     "output_type": "execute_result"
    }
   ],
   "source": [
    "#Pomocnicza ramka Posts2\n",
    "Posts2 = posts.loc[(posts.PostTypeId==2) & (posts.Score>0)]\n",
    "#Zliczenie pogrupowanych postow\n",
    "Posts2 = Posts2.groupby('ParentId').size().reset_index()\n",
    "#Nazwy kolumn\n",
    "Posts2.columns = ['ParentId', 'PositiveAnswerCount']\n",
    "#Wybor w ramce Posts\n",
    "result = posts[['Id', 'Title']]\n",
    "#Polaczenie posts i posts2\n",
    "result = pd.merge(posts, Posts2, left_on = ['Id'], right_on = ['ParentId'])\n",
    "result = result[['Id','Title','PositiveAnswerCount']]\n",
    "result.sort_values(by=['PositiveAnswerCount','Id'], inplace=True, ascending=[False, True])\n",
    "result = result.head(10).reset_index(drop=True)\n",
    "\n",
    "#Sprawdzenie poprawnosci\n",
    "result.equals(sql2)"
   ]
  },
  {
   "cell_type": "markdown",
   "metadata": {},
   "source": [
    "# Zapytanie nr 3\n",
    "Schemat działania:\n",
    " - Zliczamy roczne UpVotes dla postów\n",
    " - Łączymy zliczone UpVotes z postami, wybieramy pytania.\n",
    " - W zależności od roku wybieramy pytanie o największej liczbie UpVotes\n",
    "\n",
    "Rezultat:\n",
    "Znajdujemy pytania które w danym roku otrzymały najwięcej UpVotes.\n"
   ]
  },
  {
   "cell_type": "code",
   "execution_count": 10,
   "metadata": {},
   "outputs": [],
   "source": [
    "#ZADANIE 3\n",
    "#Zapytanie SQL\n",
    "sql3 = pd.read_sql_query(\"\"\"\n",
    "SELECT\n",
    "    Posts.Title,\n",
    "    UpVotesPerYear.Year,\n",
    "    MAX(UpVotesPerYear.Count) AS Count\n",
    "FROM (\n",
    "    SELECT\n",
    "        PostId,\n",
    "        COUNT(*) AS Count,\n",
    "        STRFTIME('%Y', Votes.CreationDate) AS Year\n",
    "    FROM Votes\n",
    "    WHERE VoteTypeId=2\n",
    "    GROUP BY PostId, Year\n",
    "    ) AS UpVotesPerYear\n",
    "JOIN Posts ON Posts.Id=UpVotesPerYear.PostId\n",
    "WHERE Posts.PostTypeId=1\n",
    "GROUP BY Year\"\"\", conn)"
   ]
  },
  {
   "cell_type": "markdown",
   "metadata": {},
   "source": [
    "## Rozwiązanie"
   ]
  },
  {
   "cell_type": "code",
   "execution_count": 12,
   "metadata": {},
   "outputs": [
    {
     "data": {
      "text/plain": [
       "True"
      ]
     },
     "execution_count": 12,
     "metadata": {},
     "output_type": "execute_result"
    }
   ],
   "source": [
    "#Ramka UpVotesPerYear\n",
    "UpVotesPerYear = votes.loc[votes.VoteTypeId==2]\n",
    "#Zmiana daty na rok\n",
    "UpVotesPerYear.loc[:, 'CreationDate'] = UpVotesPerYear.CreationDate.str.slice(0,4)\n",
    "#Zliczanie po grupowaiu\n",
    "UpVotesPerYear = UpVotesPerYear.groupby(['PostId','CreationDate']).size().reset_index()\n",
    "#Wybor kolumn\n",
    "UpVotesPerYear.columns = ['PostId', 'Year', 'Count']\n",
    "#Ramka pomocnicza\n",
    "tmp = posts.loc[posts.PostTypeId==1]\n",
    "tmp = tmp[['Title','Id']]\n",
    "#Polaczenie do wynikowej ramki\n",
    "result = pd.merge(tmp, UpVotesPerYear, left_on=['Id'], right_on=['PostId'])\n",
    "#Policzenie max i wybor potrzebnych kolumn\n",
    "tmp2 = result.groupby('Year').agg({'Count': np.max}).reset_index()\n",
    "result = pd.merge(result, tmp2, on = ['Year', 'Count'])\n",
    "result = result[['Title', 'Year', 'Count']]\n",
    "\n",
    "#Sprawdzenie poprawnosci\n",
    "result.equals(sql3)"
   ]
  },
  {
   "cell_type": "markdown",
   "metadata": {},
   "source": [
    "# Zapytanie nr 4\n",
    "Schemat działania:\n",
    " - Wybieramy odpowiedzi o maksymalnej ocenie (MaxScore) grupując po zadanym pytaniu (ParentId)\n",
    " - Łączymy powyższe odpowiedzi z pytaniami na które odpowiadały\n",
    " - Mamy zbiór pytań z informacją o najwyżej ocenionej odpowiedzi, łączymy go z postami które zostały oznaczone jako AcceptedAnswer dla danego pytania\n",
    " - Obliczamy różnicę pomiędzy najlepszą oceną ze wszystkich odpowiedzi na dane pytanie (MaxScore), a oceną odpowiedzi oznaczonej jako AcceptedAnswer na dane pytanie\n",
    "\n",
    "Rezultat:\n",
    "Znajdujemy pytania gdzie wystąpiła największa różnica pomiędzy najwyżej oceniona odpowiedzią, a odpowiedzią oznaczoną jako AcceptedAnswer."
   ]
  },
  {
   "cell_type": "code",
   "execution_count": 13,
   "metadata": {},
   "outputs": [],
   "source": [
    "#ZADANIE 4\n",
    "#Zapytanie SQL\n",
    "sql4 = pd.read_sql_query(\"\"\"\n",
    "SELECT\n",
    "Questions.Id,\n",
    "Questions.Title,\n",
    "BestAnswers.MaxScore,\n",
    "Posts.Score AS AcceptedScore,\n",
    "BestAnswers.MaxScore-Posts.Score AS Difference\n",
    "FROM (\n",
    "SELECT Id, ParentId, MAX(Score) AS MaxScore\n",
    "FROM Posts\n",
    "WHERE PostTypeId==2\n",
    "GROUP BY ParentId\n",
    ") AS BestAnswers\n",
    "JOIN (\n",
    "SELECT * FROM Posts\n",
    "WHERE PostTypeId==1\n",
    ") AS Questions\n",
    "ON Questions.Id=BestAnswers.ParentId\n",
    "JOIN Posts ON Questions.AcceptedAnswerId=Posts.Id\n",
    "WHERE Difference>50\n",
    "ORDER BY Difference DESC\"\"\", conn)"
   ]
  },
  {
   "cell_type": "markdown",
   "metadata": {},
   "source": [
    "## Rozwiązanie"
   ]
  },
  {
   "cell_type": "code",
   "execution_count": 14,
   "metadata": {},
   "outputs": [
    {
     "data": {
      "text/plain": [
       "True"
      ]
     },
     "execution_count": 14,
     "metadata": {},
     "output_type": "execute_result"
    }
   ],
   "source": [
    "#Ramka BestAnswers\n",
    "BestAnswers = posts.loc[posts.PostTypeId==2]\n",
    "#Liczymy max w kolumnie Score\n",
    "tmp = BestAnswers.groupby('ParentId').agg({'Score': np.max}).reset_index()\n",
    "#Laczymy z poczatkowa ramka\n",
    "BestAnswers = pd.merge(BestAnswers, tmp, on=['ParentId','Score'])\n",
    "#Wybor i nazwanie kolumn\n",
    "BestAnswers = BestAnswers.iloc[:, lambda result:[7,12,14]]\n",
    "BestAnswers = BestAnswers.rename(columns={'Score': 'MaxScore'})\n",
    "\n",
    "#Ramka Questions i merge z BestAnswers\n",
    "Questions = posts.loc[posts.PostTypeId==1]\n",
    "tmp = pd.merge(BestAnswers, Questions, left_on='ParentId', right_on='Id')\n",
    "#Ramka wynikowa\n",
    "result = pd.merge(posts, tmp, left_on='Id', right_on='AcceptedAnswerId')\n",
    "#Wybor kolumn po mergu\n",
    "result = result[['Id_y', 'Title_y', 'MaxScore', 'Score_x']]\n",
    "#Utworzenie kolumn Difference\n",
    "result[\"Difference\"]=result['MaxScore']-result['Score_x']\n",
    "#Sortowanie po Difference\n",
    "result.sort_values(by = ['Difference'], inplace=True, ascending=False)\n",
    "result = result.reset_index(drop=True)\n",
    "result.columns=['Id','Title','MaxScore','AcceptedScore','Difference']\n",
    "result = result.loc[result.Difference>50]\n",
    "\n",
    "#Sprawdzenie poprawnosci\n",
    "result.equals(sql4)"
   ]
  },
  {
   "cell_type": "markdown",
   "metadata": {},
   "source": [
    "# Zapytanie nr 5\n",
    "Schemat działania:\n",
    " - Obliczamy sumaryczną ocenę komentarzy dla danego posta w zależności od komentującego\n",
    " - Łączymy powyższe dane z danymi wszystkich postów tak że:\n",
    "    - komentarze odpowiadają postowi\n",
    "    - komentującym jest \"właściciel posta\"\n",
    "    - wybieramy tylko pytania\n",
    "\n",
    "Rezultat:\n",
    "Otrzymujemy pytania do których komentarze dodane przez samego pytającego miały sumarycznie najwyższą ocenę."
   ]
  },
  {
   "cell_type": "code",
   "execution_count": 15,
   "metadata": {},
   "outputs": [],
   "source": [
    "#ZADANIE 5\n",
    "#Zapytanie SQL\n",
    "sql5 = pd.read_sql_query(\"\"\"\n",
    "SELECT\n",
    "Posts.Title,\n",
    "CmtTotScr.CommentsTotalScore\n",
    "FROM (\n",
    "SELECT\n",
    "PostID,\n",
    "UserID,\n",
    "SUM(Score) AS CommentsTotalScore\n",
    "FROM Comments\n",
    "GROUP BY PostID, UserID\n",
    ") AS CmtTotScr\n",
    "JOIN Posts ON Posts.ID=CmtTotScr.PostID AND Posts.OwnerUserId=CmtTotScr.UserID\n",
    "WHERE Posts.PostTypeId=1\n",
    "ORDER BY CmtTotScr.CommentsTotalScore DESC\n",
    "LIMIT 10\"\"\", conn)"
   ]
  },
  {
   "cell_type": "markdown",
   "metadata": {},
   "source": [
    "## Rozwiązanie"
   ]
  },
  {
   "cell_type": "code",
   "execution_count": 16,
   "metadata": {},
   "outputs": [
    {
     "data": {
      "text/plain": [
       "True"
      ]
     },
     "execution_count": 16,
     "metadata": {},
     "output_type": "execute_result"
    }
   ],
   "source": [
    "#Ramka CmtTotScr\n",
    "CmtTotScr = comments.groupby(['PostId', 'UserId']).agg({'Score': np.sum})\n",
    "CmtTotScr = CmtTotScr.rename(columns={'Score': 'CommentsTotalScore'})\n",
    "#Polaczenie do ramki wynikowej\n",
    "result = pd.merge(posts, CmtTotScr, left_on=['Id','OwnerUserId'], right_on=['PostId','UserId'])\n",
    "result.sort_values(by = ['CommentsTotalScore','Id'],ascending=[False,True], inplace=True)\n",
    "#Wybor PostTypeId\n",
    "result = result.loc[result.PostTypeId==1]\n",
    "#Wybor kolumn i sortowanie\n",
    "result = result[['Title', 'CommentsTotalScore']]\n",
    "#result.sort_values(by = ['CommentsTotalScore'], inplace=True, ascending=False)\n",
    "result = result.head(10).reset_index(drop=True)\n",
    "\n",
    "#Sprawdzenie poprawnosci\n",
    "result.equals(sql5)"
   ]
  },
  {
   "cell_type": "markdown",
   "metadata": {},
   "source": [
    "# Zapytanie nr 6\n",
    "Schemat działania:\n",
    " - Z informacji na temat przyznawanych odznak wybieramy użytkowników, którym przyznano odznakę klasy 1 od 2 do 10 razy\n",
    " - Łącząc z informacjami z Users, wybieramy kolumny danych oraz wiersze unikatowe, aby nie powtarzać User-ów\n",
    "\n",
    "Rezultat:\n",
    "Informacje o użytkownikach, którym odznakę klasy 1 przyznano od 2 do 10 razy."
   ]
  },
  {
   "cell_type": "code",
   "execution_count": 17,
   "metadata": {},
   "outputs": [],
   "source": [
    "#ZADANIE 6\n",
    "#Zapytanie SQL\n",
    "sql6 = pd.read_sql_query(\"\"\"\n",
    "SELECT DISTINCT\n",
    "    Users.Id,\n",
    "    Users.DisplayName,\n",
    "    Users.Reputation,\n",
    "    Users.Age,\n",
    "    Users.Location\n",
    "FROM (\n",
    "    SELECT\n",
    "        Name, UserID\n",
    "    FROM Badges\n",
    "    WHERE Name IN (\n",
    "        SELECT\n",
    "            Name\n",
    "        FROM Badges\n",
    "        WHERE Class=1\n",
    "        GROUP BY Name\n",
    "        HAVING COUNT(*) BETWEEN 2 AND 10\n",
    "    )\n",
    "    AND Class=1\n",
    "    ) AS ValuableBadges\n",
    "JOIN Users ON ValuableBadges.UserId=Users.Id\"\"\", conn)"
   ]
  },
  {
   "cell_type": "markdown",
   "metadata": {},
   "source": [
    "## Rozwiązanie"
   ]
  },
  {
   "cell_type": "code",
   "execution_count": 20,
   "metadata": {},
   "outputs": [
    {
     "data": {
      "text/plain": [
       "True"
      ]
     },
     "execution_count": 20,
     "metadata": {},
     "output_type": "execute_result"
    }
   ],
   "source": [
    "#Pomocnicza ramka do zliczenia\n",
    "tmp = badges.loc[badges.Class==1]\n",
    "#Zliczanie po Name\n",
    "tmp = tmp.groupby('Name').size().reset_index()\n",
    "tmp = tmp.rename(columns={0:\"Count\"})\n",
    "#Wybor pomiedzy 2 a 10 dla Count\n",
    "tmp = tmp.loc[(tmp.Count>=2) & (tmp.Count<=10)]\n",
    "#Wartosci z Name do listy\n",
    "tmp = tmp[\"Name\"].tolist()\n",
    "#Ramka ValuableBadges\n",
    "ValuableBadges = badges[badges.Name.isin(tmp)]\n",
    "ValuableBadges = ValuableBadges.loc[ValuableBadges.Class==1]\n",
    "#Wybor kolumn\n",
    "ValuableBadges = ValuableBadges[['Name', 'UserId']]\n",
    "#Ramka wynikowa\n",
    "result = pd.merge(ValuableBadges, users, left_on='UserId', right_on='Id')\n",
    "#Wybor kolumn oraz wartosci unikatowych\n",
    "result = result.iloc[:,lambda tmp:[7,5,10,3,9]].drop_duplicates().reset_index(drop=True)\n",
    "\n",
    "#Sprawdzenie poprawnosci\n",
    "result.equals(sql6)"
   ]
  },
  {
   "cell_type": "markdown",
   "metadata": {},
   "source": [
    "# Zapytanie nr 7\n",
    "Schemat działania:\n",
    " - Przyjmujemy głosy z lat 2016 - 2017 za ”nowe”, wcześniejsze za ”stare”, wybieramy tylko UpVotes oraz zliczamy w zależności od postu i roku\n",
    " - Grupując dla danego postu obliczamy:\n",
    "    - liczbę UpVotes z lat 2016-17\n",
    "    - liczbę UpVotes z lat przed 2016\n",
    "    - sumaryczną liczbę UpVotes\n",
    " - Łącząc zebrane dane z postami wybieramy pytania, które nie uzyskały UpVotes w latach 2016-17\n",
    "\n",
    "Rezultat:\n",
    "Otrzymujemy pytania, które przed rokiem 2016 uzyskały najwięcej UpVotes, a w latach 2016-17 nie otrzymały żadnego."
   ]
  },
  {
   "cell_type": "code",
   "execution_count": 21,
   "metadata": {},
   "outputs": [],
   "source": [
    "#ZADANIE 7\n",
    "#Zapytanie SQL\n",
    "sql7 = pd.read_sql_query(\"\"\"\n",
    "SELECT\n",
    "    Posts.Title,\n",
    "    VotesByAge2.OldVotes\n",
    "FROM Posts\n",
    "JOIN (\n",
    "    SELECT\n",
    "        PostId,\n",
    "        MAX(CASE WHEN VoteDate = 'new' THEN Total ELSE 0 END) NewVotes,\n",
    "        MAX(CASE WHEN VoteDate = 'old' THEN Total ELSE 0 END) OldVotes,\n",
    "        SUM(Total) AS Votes\n",
    "    FROM (\n",
    "        SELECT\n",
    "            PostId,\n",
    "            CASE STRFTIME('%Y', CreationDate)\n",
    "                WHEN '2017' THEN 'new'\n",
    "                WHEN '2016' THEN 'new'\n",
    "                ELSE 'old'\n",
    "                END VoteDate,\n",
    "            COUNT(*) AS Total\n",
    "        FROM Votes\n",
    "        WHERE VoteTypeId=2\n",
    "        GROUP BY PostId, VoteDate\n",
    "    ) AS VotesByAge\n",
    "    GROUP BY VotesByAge.PostId\n",
    "    HAVING NewVotes=0\n",
    ") AS VotesByAge2 ON VotesByAge2.PostId=Posts.ID\n",
    "WHERE Posts.PostTypeId=1\n",
    "ORDER BY VotesByAge2.OldVotes DESC\n",
    "LIMIT 10\"\"\", conn)"
   ]
  },
  {
   "cell_type": "markdown",
   "metadata": {},
   "source": [
    "## Rozwiązanie"
   ]
  },
  {
   "cell_type": "code",
   "execution_count": 24,
   "metadata": {},
   "outputs": [
    {
     "data": {
      "text/plain": [
       "True"
      ]
     },
     "execution_count": 24,
     "metadata": {},
     "output_type": "execute_result"
    }
   ],
   "source": [
    "#Ramka VotesByAge\n",
    "VotesByAge = votes.loc[votes.VoteTypeId==2]\n",
    "#Zamiana daty na rok\n",
    "VotesByAge.loc[:, 'CreationDate'] = VotesByAge.CreationDate.str.slice(0,4)\n",
    "#Przypisanie 'new' 'old'\n",
    "VotesByAge.loc[:, 'CreationDate'] = np.where((VotesByAge['CreationDate'] == '2016') | (VotesByAge['CreationDate'] == '2017'), 'new', 'old')\n",
    "#Zmiana nazwy kolumny\n",
    "VotesByAge = VotesByAge.rename(columns={'CreationDate': 'VoteDate'}).reset_index(drop=True)\n",
    "#Zliczenie jako total\n",
    "VotesByAge = VotesByAge.groupby(['PostId','VoteDate']).size().reset_index()\n",
    "VotesByAge.columns = ['PostId','VoteDate','Total']\n",
    "#Kolumny NewVotes i OldVotes\n",
    "VotesByAge[\"NewVotes\"] = np.where(VotesByAge['VoteDate']=='new', VotesByAge['Total'], 0)\n",
    "VotesByAge[\"OldVotes\"] = np.where(VotesByAge['VoteDate']=='old', VotesByAge['Total'], 0)\n",
    "#Maksy i suma\n",
    "VotesByAge2 = VotesByAge.groupby(['PostId']).agg({'Total': np.sum, 'NewVotes': np.max, 'OldVotes': np.max}).reset_index()\n",
    "VotesByAge2 = VotesByAge2.loc[VotesByAge2.NewVotes==0]\n",
    "#Ramka wynikowa\n",
    "result = pd.merge(VotesByAge2, posts, left_on = 'PostId', right_on = 'Id')\n",
    "#SOrtujemy dla zachowania kolejnosci jak SQL\n",
    "result.sort_values(by = ['OldVotes','PostId'], ascending=[False,True], inplace=True)\n",
    "result = result.loc[result.PostTypeId==1]\n",
    "#Wybor kolumn\n",
    "result = result[['Title', 'OldVotes']]\n",
    "#Sortowanie wedlug OldVotes\n",
    "result.sort_values(by = ['OldVotes'], inplace=True, ascending=False)\n",
    "result = result.head(10).reset_index(drop=True)\n",
    "\n",
    "#Sprawdzenie poprawnosci\n",
    "result.equals(sql7)"
   ]
  }
 ],
 "metadata": {
  "kernelspec": {
   "display_name": "Python 3",
   "language": "python",
   "name": "python3"
  },
  "language_info": {
   "codemirror_mode": {
    "name": "ipython",
    "version": 3
   },
   "file_extension": ".py",
   "mimetype": "text/x-python",
   "name": "python",
   "nbconvert_exporter": "python",
   "pygments_lexer": "ipython3",
   "version": "3.7.1"
  }
 },
 "nbformat": 4,
 "nbformat_minor": 2
}
